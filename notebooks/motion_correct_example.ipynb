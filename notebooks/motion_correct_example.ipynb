{
 "cells": [
  {
   "cell_type": "markdown",
   "metadata": {},
   "source": [
    "## Locate data\n",
    "---"
   ]
  },
  {
   "cell_type": "code",
   "execution_count": null,
   "metadata": {},
   "outputs": [],
   "source": [
    "# file paths\n",
    "p = ''\n",
    "fix_directory = p + ''\n",
    "mov_directory = p + ''"
   ]
  },
  {
   "cell_type": "markdown",
   "metadata": {},
   "source": [
    "## Get fixed image mean\n",
    "---"
   ]
  },
  {
   "cell_type": "code",
   "execution_count": null,
   "metadata": {},
   "outputs": [],
   "source": [
    "from CircuitSeeker import motion_correct\n",
    "import nrrd\n",
    "import numpy as np\n",
    "\n",
    "# path information for folder of time frames\n",
    "frames = {'folder':fix_directory,\n",
    "          'prefix':'TM',\n",
    "          'suffix':'.h5',\n",
    "          'dataset_path':'/default',}\n",
    "\n",
    "# compute mean from all frames\n",
    "fix = motion_correct.distributed_image_mean(\n",
    "    frames,\n",
    "    cluster_kwargs={},\n",
    ")\n",
    "\n",
    "# set spacing\n",
    "fix_spacing = np.array([1.0, 0.406, 0.406])\n",
    "\n",
    "# store output - switch to xyz axis order for visualizing\n",
    "nrrd.write('./fix.nrrd', fix.transpose(2,1,0), compression_level=2)\n",
    "\n",
    "# # load saved results\n",
    "# fix, _ = nrrd.read('./fix.nrrd')\n",
    "# fix = fix.transpose(2,1,0)  # switch back to zyx\n",
    "# fix_spacing = np.array([1.0, 0.406, 0.406])"
   ]
  },
  {
   "cell_type": "markdown",
   "metadata": {},
   "source": [
    "## Compute fixed image mask\n",
    "---"
   ]
  },
  {
   "cell_type": "code",
   "execution_count": null,
   "metadata": {},
   "outputs": [],
   "source": [
    "from CircuitSeeker.level_set import brain_detection\n",
    "from scipy.ndimage import zoom, binary_dilation, binary_closing\n",
    "\n",
    "# segment on downsampled data for speed\n",
    "fix_small = zoom(fix, [.5, .25, .25], order=1)\n",
    "fix_small_spacing = fix_spacing * [2, 4, 4]\n",
    "\n",
    "# segment\n",
    "fix_mask = brain_detection(\n",
    "    fix_small,\n",
    "    fix_small_spacing,\n",
    "    smooth_sigmas=[3.,1.5,0.75],\n",
    "    lambda2=48.,  # 32. almost perfect, just a little too tight, 4. too tight\n",
    "    mask_smoothing=1,\n",
    ")\n",
    "\n",
    "# dilate the boundaries a little, go back to original sampling, and smooth boundaries\n",
    "# you can also play with the dilation/closing element size here to adjust mask boundaries\n",
    "fix_mask = zoom(fix_mask, np.array(fix.shape) / fix_small.shape, order=0)\n",
    "fix_mask = binary_closing(fix_mask, np.ones((5,5,5))).astype(np.uint8)\n",
    "fix_mask = binary_dilation(fix_mask, np.ones((5,5,5))).astype(np.uint8)\n",
    "\n",
    "# save the result\n",
    "nrrd.write('./fix_mask.nrrd', fix_mask.transpose(2,1,0), compression_level=2)\n",
    "\n",
    "# # load saved results\n",
    "# fix_mask, _ = nrrd.read('./fix_mask.nrrd')\n",
    "# fix_mask = fix_mask.transpose(2,1,0)"
   ]
  },
  {
   "cell_type": "markdown",
   "metadata": {},
   "source": [
    "## Motion correct\n",
    "---"
   ]
  },
  {
   "cell_type": "code",
   "execution_count": null,
   "metadata": {},
   "outputs": [],
   "source": [
    "from CircuitSeeker import motion_correct\n",
    "\n",
    "# information regarding the time series data\n",
    "frames = {'folder':mov_directory,\n",
    "          'prefix':'TM',\n",
    "          'suffix':'.h5',\n",
    "          'dataset_path':'/default',}\n",
    "\n",
    "# voxel spacing for moving frames\n",
    "mov_spacing = np.array([4.0, 0.406, 0.406])\n",
    "\n",
    "# motion correct\n",
    "transforms = motion_correct.motion_correct(\n",
    "    fix, frames,\n",
    "    fix_spacing, mov_spacing,\n",
    "    fix_mask=fix_mask,\n",
    "    time_stride=10,\n",
    "    sigma=0.25,\n",
    "    cluster_kwargs={\n",
    "        'ncpus':6, 'threads':5,\n",
    "        'min_workers': 40, 'max_workers':40,\n",
    "    },\n",
    "    metric='MI',\n",
    "    alignment_spacing=1.6,\n",
    "    sampling='regular',\n",
    "    sampling_percentage=1.0,\n",
    "    optimizer='GD',\n",
    "    estimate_learning_rate='never',\n",
    "    learning_rate=0.2,\n",
    "    iterations=100,\n",
    ")\n",
    "\n",
    "# write the transforms out as individual files for storage\n",
    "motion_correct.save_transforms('./rigid_transforms.json', transforms)\n",
    "\n",
    "# # load precomputed results\n",
    "# transforms = motion_correct.read_transforms('./rigid_transforms.json')"
   ]
  },
  {
   "cell_type": "markdown",
   "metadata": {},
   "source": [
    "## Apply transforms\n",
    "---"
   ]
  },
  {
   "cell_type": "code",
   "execution_count": null,
   "metadata": {},
   "outputs": [],
   "source": [
    "# the motion corrected dataset will be written here as a zarr file\n",
    "write_path = './motion_corrected.zarr'\n",
    "\n",
    "# This requires some heavy computation\n",
    "aligned_frames = motion_correct.resample_frames(\n",
    "    frames,\n",
    "    mov_spacing,\n",
    "    transforms,\n",
    "    write_path,\n",
    "    mask=fix_mask,\n",
    "    time_stride=1,\n",
    "    cluster_kwargs={\n",
    "        'ncpus':6, 'threads':5,\n",
    "        'min_workers':40, 'max_workers':40,\n",
    "    },\n",
    ")\n",
    "\n",
    "# # load precomputed result\n",
    "# import zarr\n",
    "# aligned_frames = zarr.open(write_path)"
   ]
  },
  {
   "cell_type": "markdown",
   "metadata": {},
   "source": [
    "## Write a time slice\n",
    "---"
   ]
  },
  {
   "cell_type": "code",
   "execution_count": null,
   "metadata": {},
   "outputs": [],
   "source": [
    "# how to slice in time/space\n",
    "plane = 27\n",
    "stride = 10\n",
    "\n",
    "# initialize an array to hold slices\n",
    "slice_over_time = np.empty((389, 1224, 2048), dtype=np.uint16)\n",
    "\n",
    "for i in range(389):\n",
    "    slice_over_time[i] = aligned_frames[i*stride, plane, ...]\n",
    "\n",
    "# write out in a format you can read with Fiji/Icy etc.\n",
    "nrrd.write('./slice27_timestride10_corrected.nrrd', slice_over_time.transpose(2,1,0), compression_level=2)"
   ]
  },
  {
   "cell_type": "code",
   "execution_count": null,
   "metadata": {},
   "outputs": [],
   "source": []
  }
 ],
 "metadata": {
  "kernelspec": {
   "display_name": "main",
   "language": "python",
   "name": "main"
  },
  "language_info": {
   "codemirror_mode": {
    "name": "ipython",
    "version": 3
   },
   "file_extension": ".py",
   "mimetype": "text/x-python",
   "name": "python",
   "nbconvert_exporter": "python",
   "pygments_lexer": "ipython3",
   "version": "3.8.5"
  }
 },
 "nbformat": 4,
 "nbformat_minor": 4
}
