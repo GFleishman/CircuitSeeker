{
 "cells": [
  {
   "cell_type": "code",
   "execution_count": null,
   "id": "0fb37a94-7844-4f05-8fba-941045e5b78a",
   "metadata": {},
   "outputs": [],
   "source": [
    "import numpy as np, zarr, nrrd\n",
    "from CircuitSeeker.function import distributed_deltafoverf"
   ]
  },
  {
   "cell_type": "code",
   "execution_count": null,
   "id": "5837e0aa-d905-461b-97cf-e0c33e39bf26",
   "metadata": {},
   "outputs": [],
   "source": [
    "\n",
    "# compute dff\n",
    "dff = distributed_deltafoverf(\n",
    "    './motion_corrected.zarr', 32, 100,\n",
    "    './deltafoverf.zarr',\n",
    "    cluster_kwargs={\n",
    "        'ncpus':8, 'threads':1,\n",
    "        'min_workers':50, 'max_workers':50,\n",
    "        'config':{\n",
    "            'distributed.worker.memory.target':0.7,\n",
    "            'distributed.worker.memory.spill':False,\n",
    "            'distributed.worker.memory.pause':0.9,\n",
    "            'distributed.worker.memory.terminate':0.95,\n",
    "        },\n",
    "    },\n",
    ")"
   ]
  },
  {
   "cell_type": "code",
   "execution_count": null,
   "id": "c1956d57-fb98-49a3-8f5e-43b1bdecd23d",
   "metadata": {},
   "outputs": [],
   "source": [
    "# how to slice in time/space\n",
    "plane = 27\n",
    "stride = 1\n",
    "\n",
    "# initialize an array to hold slices\n",
    "slice_over_time = np.empty((3861, 1224, 2048), dtype=np.uint8)\n",
    "\n",
    "# read all data\n",
    "for i in range(3861):\n",
    "    if i % 100 == 0: print(i)\n",
    "    frame = dff[i*stride, plane, ...].astype(np.float32)\n",
    "    mn, mx = frame.min(), frame.max()\n",
    "    remapped = 255 * (frame - mn) / (mx - mn)\n",
    "    slice_over_time[i] = np.round(remapped).astype(np.uint8)\n",
    "\n",
    "# write out in a format you can read with Fiji/Icy etc.\n",
    "nrrd.write('./slice27_dff_uint8.nrrd', slice_over_time.transpose(2,1,0), compression_level=2)"
   ]
  },
  {
   "cell_type": "code",
   "execution_count": null,
   "id": "099dad0c-3290-47ae-95f8-7696b9dc86eb",
   "metadata": {},
   "outputs": [],
   "source": []
  }
 ],
 "metadata": {
  "kernelspec": {
   "display_name": "CircuitSeeker",
   "language": "python",
   "name": "circuitseeker"
  },
  "language_info": {
   "codemirror_mode": {
    "name": "ipython",
    "version": 3
   },
   "file_extension": ".py",
   "mimetype": "text/x-python",
   "name": "python",
   "nbconvert_exporter": "python",
   "pygments_lexer": "ipython3",
   "version": "3.8.12"
  }
 },
 "nbformat": 4,
 "nbformat_minor": 5
}
